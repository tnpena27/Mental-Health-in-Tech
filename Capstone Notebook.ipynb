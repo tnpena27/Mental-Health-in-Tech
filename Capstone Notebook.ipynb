{
 "cells": [
  {
   "cell_type": "markdown",
   "id": "5c863d7a-025a-4388-a39e-890b44d8e258",
   "metadata": {},
   "source": [
    "# **Project: Mental Health in Tech Industry**\n",
    "\n",
    "Author: Tomeka Pena"
   ]
  },
  {
   "cell_type": "markdown",
   "id": "df290aa4-b438-4cf8-9dad-706f22089ab3",
   "metadata": {},
   "source": [
    "## Table of Contents\n",
    "\n",
    "<ul>\n",
    "<li><a href=\"#intro\">Introduction</a></li>\n",
    "<li><a href=\"#eda\">Exploratory Data Analysis</a></li>\n",
    "<li><a href=\"#cleaning\">Data Cleaning</a></li>\n",
    "<li><a href=\"#analysis\">Statistical and Correlation Analysis</a></li>    \n",
    "<li><a href=\"#conclusions\">Overall Implication</a></li>\n",
    "</ul>"
   ]
  },
  {
   "cell_type": "markdown",
   "id": "feecd1f7-9e51-4a89-b9b6-175b4817288a",
   "metadata": {},
   "source": [
    "## Introduction\n",
    "#### This project will seek to answer the following research question\n",
    ">**Is there a correlation between the availability of mental health resources and employees’ willingness to discuss mental health issues at work, and is there a difference in employee comfort levels in discussing mental health issues between those who know their mental health care options and those who do not?**"
   ]
  },
  {
   "cell_type": "markdown",
   "id": "7a9ec8bd-2318-414b-b91f-2b1bc2888710",
   "metadata": {},
   "source": [
    "### Dataset Description\n",
    "\n",
    "This project will be using a dataset called *Mental Health in Tech Survey: Survey on Mental Health in the Tech Workplace in 2014*, that is from a 2014 survey that measures attitudes towards mental health and frequency of mental health disorders in the tech workplace. The dataset is provided by Kaggle and can be found here: https://www.kaggle.com/datasets/osmi/mental-health-in-tech-survey  \n",
    "\n",
    "Below are the columns included in the dataset along with its question in the survey:\n",
    " \n",
    ">**Timestamp** (date and time survey was submitted)\\\n",
    "**Age** (age of survey participant)\\\n",
    "**Gender** (gender of survey participant)\\\n",
    "**Country:** What country do you live in?\\\n",
    "**state:** If you live in the United States, which state or territory do you live in?\\\n",
    "**self_employed:** Are you self-employed?\\\n",
    "**family_history:** Do you have a family history of mental illness?\\\n",
    "**treatment:** Have you sought treatment for a mental health condition?\\\n",
    "**work_interfere:** If you have a mental health condition, do you feel that it interferes with your work?\\\n",
    "**no_employees:** How many employees does your company or organization have?\\\n",
    "**remote_work:** Do you work remotely (outside of an office) at least 50% of the time?\\\n",
    "**tech_company:** Is your employer primarily a tech company/organization?\\\n",
    "**benefits:** Does your employer provide mental health benefits?\\\n",
    "**care_options:** Do you know the options for mental health care your employer provides?\\\n",
    "**wellness_program:** Has your employer ever discussed mental health as part of an employee wellness program?\\\n",
    "**seek_help:** Does your employer provide resources to learn more about mental health issues and how to seek help?\\\n",
    "**anonymity:** Is your anonymity protected if you choose to take advantage of mental health or substance abuse treatment resources?\\\n",
    "**leave:** How easy is it for you to take medical leave for a mental health condition?\\\n",
    "**mental_health_consequence:** Do you think that discussing a mental health issue with your employer would have negative consequences?\\\n",
    "**phys_health_consequence:** Do you think that discussing a physical health issue with your employer would have negative consequences?\\\n",
    "**coworkers:** Would you be willing to discuss a mental health issue with your coworkers?\\\n",
    "**supervisor:** Would you be willing to discuss a mental health issue with your direct supervisor(s)?\\\n",
    "**mental_health_interview:** Would you bring up a mental health issue with a potential employer in an interview?\\\n",
    "**phys_health_interview:** Would you bring up a physical health issue with a potential employer in an interview?\\\n",
    "**mental_vs_physical:** Do you feel that your employer takes mental health as seriously as physical health?\\\n",
    "**obs_consequence:** Have you heard of or observed negative consequences for coworkers with mental health conditions in your workplace?\\\n",
    "**comments:** Any additional notes or comments"
   ]
  },
  {
   "cell_type": "markdown",
   "id": "ae92a115-f3e8-41b9-b627-c548430defad",
   "metadata": {},
   "source": [
    "### A. Exploratory Data Analysis"
   ]
  },
  {
   "cell_type": "code",
   "execution_count": 1,
   "id": "f6fa208f-cdb9-4a1c-8195-da463d312de2",
   "metadata": {},
   "outputs": [],
   "source": [
    "# Import necessary packages\n",
    "import pandas as pd\n",
    "import numpy as np\n",
    "from scipy import stats\n",
    "import matplotlib.pyplot as plt\n",
    "import seaborn as sns"
   ]
  },
  {
   "cell_type": "code",
   "execution_count": 2,
   "id": "13511124-1cf3-4557-8673-948b962a0d2e",
   "metadata": {},
   "outputs": [
    {
     "data": {
      "text/html": [
       "<div>\n",
       "<style scoped>\n",
       "    .dataframe tbody tr th:only-of-type {\n",
       "        vertical-align: middle;\n",
       "    }\n",
       "\n",
       "    .dataframe tbody tr th {\n",
       "        vertical-align: top;\n",
       "    }\n",
       "\n",
       "    .dataframe thead th {\n",
       "        text-align: right;\n",
       "    }\n",
       "</style>\n",
       "<table border=\"1\" class=\"dataframe\">\n",
       "  <thead>\n",
       "    <tr style=\"text-align: right;\">\n",
       "      <th></th>\n",
       "      <th>Timestamp</th>\n",
       "      <th>Age</th>\n",
       "      <th>Gender</th>\n",
       "      <th>Country</th>\n",
       "      <th>state</th>\n",
       "      <th>self_employed</th>\n",
       "      <th>family_history</th>\n",
       "      <th>treatment</th>\n",
       "      <th>work_interfere</th>\n",
       "      <th>no_employees</th>\n",
       "      <th>...</th>\n",
       "      <th>leave</th>\n",
       "      <th>mental_health_consequence</th>\n",
       "      <th>phys_health_consequence</th>\n",
       "      <th>coworkers</th>\n",
       "      <th>supervisor</th>\n",
       "      <th>mental_health_interview</th>\n",
       "      <th>phys_health_interview</th>\n",
       "      <th>mental_vs_physical</th>\n",
       "      <th>obs_consequence</th>\n",
       "      <th>comments</th>\n",
       "    </tr>\n",
       "  </thead>\n",
       "  <tbody>\n",
       "    <tr>\n",
       "      <th>0</th>\n",
       "      <td>8/27/2014 11:29</td>\n",
       "      <td>37</td>\n",
       "      <td>Female</td>\n",
       "      <td>United States</td>\n",
       "      <td>IL</td>\n",
       "      <td>NaN</td>\n",
       "      <td>No</td>\n",
       "      <td>Yes</td>\n",
       "      <td>Often</td>\n",
       "      <td>25-Jun</td>\n",
       "      <td>...</td>\n",
       "      <td>Somewhat easy</td>\n",
       "      <td>No</td>\n",
       "      <td>No</td>\n",
       "      <td>Some of them</td>\n",
       "      <td>Yes</td>\n",
       "      <td>No</td>\n",
       "      <td>Maybe</td>\n",
       "      <td>Yes</td>\n",
       "      <td>No</td>\n",
       "      <td>NaN</td>\n",
       "    </tr>\n",
       "    <tr>\n",
       "      <th>1</th>\n",
       "      <td>8/27/2014 11:29</td>\n",
       "      <td>44</td>\n",
       "      <td>M</td>\n",
       "      <td>United States</td>\n",
       "      <td>IN</td>\n",
       "      <td>NaN</td>\n",
       "      <td>No</td>\n",
       "      <td>No</td>\n",
       "      <td>Rarely</td>\n",
       "      <td>More than 1000</td>\n",
       "      <td>...</td>\n",
       "      <td>Don't know</td>\n",
       "      <td>Maybe</td>\n",
       "      <td>No</td>\n",
       "      <td>No</td>\n",
       "      <td>No</td>\n",
       "      <td>No</td>\n",
       "      <td>No</td>\n",
       "      <td>Don't know</td>\n",
       "      <td>No</td>\n",
       "      <td>NaN</td>\n",
       "    </tr>\n",
       "    <tr>\n",
       "      <th>2</th>\n",
       "      <td>8/27/2014 11:29</td>\n",
       "      <td>32</td>\n",
       "      <td>Male</td>\n",
       "      <td>Canada</td>\n",
       "      <td>NaN</td>\n",
       "      <td>NaN</td>\n",
       "      <td>No</td>\n",
       "      <td>No</td>\n",
       "      <td>Rarely</td>\n",
       "      <td>25-Jun</td>\n",
       "      <td>...</td>\n",
       "      <td>Somewhat difficult</td>\n",
       "      <td>No</td>\n",
       "      <td>No</td>\n",
       "      <td>Yes</td>\n",
       "      <td>Yes</td>\n",
       "      <td>Yes</td>\n",
       "      <td>Yes</td>\n",
       "      <td>No</td>\n",
       "      <td>No</td>\n",
       "      <td>NaN</td>\n",
       "    </tr>\n",
       "    <tr>\n",
       "      <th>3</th>\n",
       "      <td>8/27/2014 11:29</td>\n",
       "      <td>31</td>\n",
       "      <td>Male</td>\n",
       "      <td>United Kingdom</td>\n",
       "      <td>NaN</td>\n",
       "      <td>NaN</td>\n",
       "      <td>Yes</td>\n",
       "      <td>Yes</td>\n",
       "      <td>Often</td>\n",
       "      <td>26-100</td>\n",
       "      <td>...</td>\n",
       "      <td>Somewhat difficult</td>\n",
       "      <td>Yes</td>\n",
       "      <td>Yes</td>\n",
       "      <td>Some of them</td>\n",
       "      <td>No</td>\n",
       "      <td>Maybe</td>\n",
       "      <td>Maybe</td>\n",
       "      <td>No</td>\n",
       "      <td>Yes</td>\n",
       "      <td>NaN</td>\n",
       "    </tr>\n",
       "    <tr>\n",
       "      <th>4</th>\n",
       "      <td>8/27/2014 11:30</td>\n",
       "      <td>31</td>\n",
       "      <td>Male</td>\n",
       "      <td>United States</td>\n",
       "      <td>TX</td>\n",
       "      <td>NaN</td>\n",
       "      <td>No</td>\n",
       "      <td>No</td>\n",
       "      <td>Never</td>\n",
       "      <td>100-500</td>\n",
       "      <td>...</td>\n",
       "      <td>Don't know</td>\n",
       "      <td>No</td>\n",
       "      <td>No</td>\n",
       "      <td>Some of them</td>\n",
       "      <td>Yes</td>\n",
       "      <td>Yes</td>\n",
       "      <td>Yes</td>\n",
       "      <td>Don't know</td>\n",
       "      <td>No</td>\n",
       "      <td>NaN</td>\n",
       "    </tr>\n",
       "  </tbody>\n",
       "</table>\n",
       "<p>5 rows × 27 columns</p>\n",
       "</div>"
      ],
      "text/plain": [
       "         Timestamp  Age  Gender         Country state self_employed  \\\n",
       "0  8/27/2014 11:29   37  Female   United States    IL           NaN   \n",
       "1  8/27/2014 11:29   44       M   United States    IN           NaN   \n",
       "2  8/27/2014 11:29   32    Male          Canada   NaN           NaN   \n",
       "3  8/27/2014 11:29   31    Male  United Kingdom   NaN           NaN   \n",
       "4  8/27/2014 11:30   31    Male   United States    TX           NaN   \n",
       "\n",
       "  family_history treatment work_interfere    no_employees  ...  \\\n",
       "0             No       Yes          Often          25-Jun  ...   \n",
       "1             No        No         Rarely  More than 1000  ...   \n",
       "2             No        No         Rarely          25-Jun  ...   \n",
       "3            Yes       Yes          Often          26-100  ...   \n",
       "4             No        No          Never         100-500  ...   \n",
       "\n",
       "                leave mental_health_consequence phys_health_consequence  \\\n",
       "0       Somewhat easy                        No                      No   \n",
       "1          Don't know                     Maybe                      No   \n",
       "2  Somewhat difficult                        No                      No   \n",
       "3  Somewhat difficult                       Yes                     Yes   \n",
       "4          Don't know                        No                      No   \n",
       "\n",
       "      coworkers supervisor mental_health_interview phys_health_interview  \\\n",
       "0  Some of them        Yes                      No                 Maybe   \n",
       "1            No         No                      No                    No   \n",
       "2           Yes        Yes                     Yes                   Yes   \n",
       "3  Some of them         No                   Maybe                 Maybe   \n",
       "4  Some of them        Yes                     Yes                   Yes   \n",
       "\n",
       "  mental_vs_physical obs_consequence comments  \n",
       "0                Yes              No      NaN  \n",
       "1         Don't know              No      NaN  \n",
       "2                 No              No      NaN  \n",
       "3                 No             Yes      NaN  \n",
       "4         Don't know              No      NaN  \n",
       "\n",
       "[5 rows x 27 columns]"
      ]
     },
     "execution_count": 2,
     "metadata": {},
     "output_type": "execute_result"
    }
   ],
   "source": [
    "# Load survey dataset\n",
    "df = pd.read_csv('survey.csv')\n",
    "df.head()"
   ]
  },
  {
   "cell_type": "markdown",
   "id": "5de0011a-217f-4a84-9899-bffb891a41ed",
   "metadata": {},
   "source": [
    "At first glance, df.head() reveals the data set has 27 columns. It can be observed in the gender column that there are multiple ways that represent 'male' as a gender. Futher investigation on value '25-Jun' in column for number of employees (no_empleyees) is needed."
   ]
  },
  {
   "cell_type": "code",
   "execution_count": 3,
   "id": "5cd666e5-1b61-4b93-8418-688aacd37710",
   "metadata": {},
   "outputs": [
    {
     "name": "stdout",
     "output_type": "stream",
     "text": [
      "<class 'pandas.core.frame.DataFrame'>\n",
      "RangeIndex: 1259 entries, 0 to 1258\n",
      "Data columns (total 27 columns):\n",
      " #   Column                     Non-Null Count  Dtype \n",
      "---  ------                     --------------  ----- \n",
      " 0   Timestamp                  1259 non-null   object\n",
      " 1   Age                        1259 non-null   int64 \n",
      " 2   Gender                     1259 non-null   object\n",
      " 3   Country                    1259 non-null   object\n",
      " 4   state                      744 non-null    object\n",
      " 5   self_employed              1241 non-null   object\n",
      " 6   family_history             1259 non-null   object\n",
      " 7   treatment                  1259 non-null   object\n",
      " 8   work_interfere             995 non-null    object\n",
      " 9   no_employees               1259 non-null   object\n",
      " 10  remote_work                1259 non-null   object\n",
      " 11  tech_company               1259 non-null   object\n",
      " 12  benefits                   1259 non-null   object\n",
      " 13  care_options               1259 non-null   object\n",
      " 14  wellness_program           1259 non-null   object\n",
      " 15  seek_help                  1259 non-null   object\n",
      " 16  anonymity                  1259 non-null   object\n",
      " 17  leave                      1259 non-null   object\n",
      " 18  mental_health_consequence  1259 non-null   object\n",
      " 19  phys_health_consequence    1259 non-null   object\n",
      " 20  coworkers                  1259 non-null   object\n",
      " 21  supervisor                 1259 non-null   object\n",
      " 22  mental_health_interview    1259 non-null   object\n",
      " 23  phys_health_interview      1259 non-null   object\n",
      " 24  mental_vs_physical         1259 non-null   object\n",
      " 25  obs_consequence            1259 non-null   object\n",
      " 26  comments                   164 non-null    object\n",
      "dtypes: int64(1), object(26)\n",
      "memory usage: 265.7+ KB\n"
     ]
    }
   ],
   "source": [
    "# Info on DataFrame\n",
    "df.info()"
   ]
  },
  {
   "cell_type": "markdown",
   "id": "a7494d0b-7bb4-459c-84f0-4fff661c3876",
   "metadata": {},
   "source": [
    "There are 1259 total rows in the dataset. Majority of the rows have an object data type. Data conversion will be needed to be able to perform correlation analysis. Also, there are a few columns with null values. Further investigation into null values are needed."
   ]
  },
  {
   "cell_type": "code",
   "execution_count": 4,
   "id": "f5a49055-597c-474b-bba7-555e5a864dfa",
   "metadata": {},
   "outputs": [
    {
     "data": {
      "text/plain": [
       "Timestamp                       0\n",
       "Age                             0\n",
       "Gender                          0\n",
       "Country                         0\n",
       "state                         515\n",
       "self_employed                  18\n",
       "family_history                  0\n",
       "treatment                       0\n",
       "work_interfere                264\n",
       "no_employees                    0\n",
       "remote_work                     0\n",
       "tech_company                    0\n",
       "benefits                        0\n",
       "care_options                    0\n",
       "wellness_program                0\n",
       "seek_help                       0\n",
       "anonymity                       0\n",
       "leave                           0\n",
       "mental_health_consequence       0\n",
       "phys_health_consequence         0\n",
       "coworkers                       0\n",
       "supervisor                      0\n",
       "mental_health_interview         0\n",
       "phys_health_interview           0\n",
       "mental_vs_physical              0\n",
       "obs_consequence                 0\n",
       "comments                     1095\n",
       "dtype: int64"
      ]
     },
     "execution_count": 4,
     "metadata": {},
     "output_type": "execute_result"
    }
   ],
   "source": [
    "# Checking for null values\n",
    "df.isnull().sum()"
   ]
  },
  {
   "cell_type": "markdown",
   "id": "c065bc80-f568-4eff-93a4-fca369bd2b50",
   "metadata": {},
   "source": [
    "There are 515 or 40.9% null values in 'state' column. A possible cause could be from the survery containing participants from various countries outside the United States. I will not drop rows with null values in 'state' column until after further investigation is done. However, I will be dropping 'work_interfere' and 'comments' during the data cleaning process because they are not relevant to the research question. I will now count the occurance of countries other than the United States to see if there is a relation to the null values in the 'state' column."
   ]
  },
  {
   "cell_type": "code",
   "execution_count": 5,
   "id": "eddc5fc9-a5cd-4958-ad15-76730a1c6e12",
   "metadata": {},
   "outputs": [
    {
     "data": {
      "text/plain": [
       "Country\n",
       "United States             751\n",
       "United Kingdom            185\n",
       "Canada                     72\n",
       "Germany                    45\n",
       "Netherlands                27\n",
       "Ireland                    27\n",
       "Australia                  21\n",
       "France                     13\n",
       "India                      10\n",
       "New Zealand                 8\n",
       "Poland                      7\n",
       "Italy                       7\n",
       "Sweden                      7\n",
       "Switzerland                 7\n",
       "South Africa                6\n",
       "Brazil                      6\n",
       "Belgium                     6\n",
       "Israel                      5\n",
       "Singapore                   4\n",
       "Bulgaria                    4\n",
       "Russia                      3\n",
       "Austria                     3\n",
       "Finland                     3\n",
       "Mexico                      3\n",
       "Denmark                     2\n",
       "Greece                      2\n",
       "Portugal                    2\n",
       "Colombia                    2\n",
       "Croatia                     2\n",
       "Slovenia                    1\n",
       "Costa Rica                  1\n",
       "Latvia                      1\n",
       "Uruguay                     1\n",
       "Spain                       1\n",
       "Romania                     1\n",
       "Zimbabwe                    1\n",
       "Japan                       1\n",
       "Nigeria                     1\n",
       "Hungary                     1\n",
       "Bosnia and Herzegovina      1\n",
       "Thailand                    1\n",
       "Norway                      1\n",
       "Bahamas, The                1\n",
       "Moldova                     1\n",
       "Georgia                     1\n",
       "China                       1\n",
       "Czech Republic              1\n",
       "Philippines                 1\n",
       "Name: count, dtype: int64"
      ]
     },
     "execution_count": 5,
     "metadata": {},
     "output_type": "execute_result"
    }
   ],
   "source": [
    "# Country count\n",
    "df['Country'].value_counts()"
   ]
  },
  {
   "cell_type": "code",
   "execution_count": 6,
   "id": "9eb9522f-1832-490b-9790-d34d62e2b18c",
   "metadata": {},
   "outputs": [
    {
     "name": "stdout",
     "output_type": "stream",
     "text": [
      "Number of rows where country is not United States: 508\n"
     ]
    }
   ],
   "source": [
    "# Filter the DataFrame for countries not equal to 'United States'\n",
    "non_us_countries = df[df['Country'] != 'United States']\n",
    "\n",
    "# Get the total count of non-US countries\n",
    "non_us_count = non_us_countries.shape[0]\n",
    "\n",
    "# Display the result\n",
    "print(\"Number of rows where country is not United States:\", non_us_count)"
   ]
  },
  {
   "cell_type": "code",
   "execution_count": 7,
   "id": "e005ddd1-1fe0-4d2c-bcec-f0d32c8acfde",
   "metadata": {},
   "outputs": [
    {
     "name": "stdout",
     "output_type": "stream",
     "text": [
      "Number rows where country is United States and state is null: 11\n"
     ]
    }
   ],
   "source": [
    "# Filter the rows where 'Country' is 'United States' and 'state' is null\n",
    "us_no_state_count = df[(df['Country'] == 'United States') & (df['state'].isnull())].shape[0]\n",
    "\n",
    "# Display the result\n",
    "print(\"Number rows where country is United States and state is null:\", us_no_state_count)\n"
   ]
  },
  {
   "cell_type": "markdown",
   "id": "4d7bc9e0-54c4-46c3-b4d6-00b3df5eed74",
   "metadata": {},
   "source": [
    "There are 508 total participants from countries other than the United States and there are 11 participants in the United States with null values. This could be due to them living in Washington, DC which is not classified as a state. Additionally, the sum of 'non_us_countries' and 'us_no_state_count' is 519 and results in 4 rows who should have null values in the 'state' column. I will now find the rows that should have null values."
   ]
  },
  {
   "cell_type": "code",
   "execution_count": 8,
   "id": "591cccf5-6f19-47c1-b41b-f463e6f75056",
   "metadata": {},
   "outputs": [
    {
     "name": "stdout",
     "output_type": "stream",
     "text": [
      "Number of countries that are not the United States but have a state listed: 4\n"
     ]
    }
   ],
   "source": [
    "# Filter for countries not equal to 'United States' and where 'state' is not null\n",
    "non_us_with_state = df[(df['Country'] != 'United States') & (df['state'].notnull())]\n",
    "\n",
    "# Get the count of such rows\n",
    "non_us_with_state_count = non_us_with_state.shape[0]\n",
    "\n",
    "# Display the count\n",
    "print(\"Number of countries that are not the United States but have a state listed:\", non_us_with_state_count)\n"
   ]
  },
  {
   "cell_type": "code",
   "execution_count": 9,
   "id": "5b5ab064-45d8-4b80-b752-7abd89977312",
   "metadata": {},
   "outputs": [
    {
     "data": {
      "text/html": [
       "<div>\n",
       "<style scoped>\n",
       "    .dataframe tbody tr th:only-of-type {\n",
       "        vertical-align: middle;\n",
       "    }\n",
       "\n",
       "    .dataframe tbody tr th {\n",
       "        vertical-align: top;\n",
       "    }\n",
       "\n",
       "    .dataframe thead th {\n",
       "        text-align: right;\n",
       "    }\n",
       "</style>\n",
       "<table border=\"1\" class=\"dataframe\">\n",
       "  <thead>\n",
       "    <tr style=\"text-align: right;\">\n",
       "      <th></th>\n",
       "      <th>Timestamp</th>\n",
       "      <th>Age</th>\n",
       "      <th>Gender</th>\n",
       "      <th>Country</th>\n",
       "      <th>state</th>\n",
       "      <th>self_employed</th>\n",
       "      <th>family_history</th>\n",
       "      <th>treatment</th>\n",
       "      <th>work_interfere</th>\n",
       "      <th>no_employees</th>\n",
       "      <th>...</th>\n",
       "      <th>leave</th>\n",
       "      <th>mental_health_consequence</th>\n",
       "      <th>phys_health_consequence</th>\n",
       "      <th>coworkers</th>\n",
       "      <th>supervisor</th>\n",
       "      <th>mental_health_interview</th>\n",
       "      <th>phys_health_interview</th>\n",
       "      <th>mental_vs_physical</th>\n",
       "      <th>obs_consequence</th>\n",
       "      <th>comments</th>\n",
       "    </tr>\n",
       "  </thead>\n",
       "  <tbody>\n",
       "    <tr>\n",
       "      <th>319</th>\n",
       "      <td>8/27/2014 14:28</td>\n",
       "      <td>29</td>\n",
       "      <td>male</td>\n",
       "      <td>Latvia</td>\n",
       "      <td>NY</td>\n",
       "      <td>No</td>\n",
       "      <td>No</td>\n",
       "      <td>No</td>\n",
       "      <td>NaN</td>\n",
       "      <td>26-100</td>\n",
       "      <td>...</td>\n",
       "      <td>Somewhat easy</td>\n",
       "      <td>Maybe</td>\n",
       "      <td>Maybe</td>\n",
       "      <td>Some of them</td>\n",
       "      <td>Some of them</td>\n",
       "      <td>No</td>\n",
       "      <td>No</td>\n",
       "      <td>Don't know</td>\n",
       "      <td>No</td>\n",
       "      <td>NaN</td>\n",
       "    </tr>\n",
       "    <tr>\n",
       "      <th>488</th>\n",
       "      <td>8/27/2014 16:21</td>\n",
       "      <td>26</td>\n",
       "      <td>Male</td>\n",
       "      <td>Israel</td>\n",
       "      <td>MD</td>\n",
       "      <td>No</td>\n",
       "      <td>No</td>\n",
       "      <td>No</td>\n",
       "      <td>Sometimes</td>\n",
       "      <td>25-Jun</td>\n",
       "      <td>...</td>\n",
       "      <td>Very easy</td>\n",
       "      <td>Maybe</td>\n",
       "      <td>No</td>\n",
       "      <td>Some of them</td>\n",
       "      <td>Yes</td>\n",
       "      <td>No</td>\n",
       "      <td>Maybe</td>\n",
       "      <td>Yes</td>\n",
       "      <td>No</td>\n",
       "      <td>Israel has public health insurance for everyon...</td>\n",
       "    </tr>\n",
       "    <tr>\n",
       "      <th>989</th>\n",
       "      <td>8/29/2014 9:10</td>\n",
       "      <td>8</td>\n",
       "      <td>A little about you</td>\n",
       "      <td>Bahamas, The</td>\n",
       "      <td>IL</td>\n",
       "      <td>Yes</td>\n",
       "      <td>Yes</td>\n",
       "      <td>Yes</td>\n",
       "      <td>Often</td>\n",
       "      <td>5-Jan</td>\n",
       "      <td>...</td>\n",
       "      <td>Very easy</td>\n",
       "      <td>Yes</td>\n",
       "      <td>Yes</td>\n",
       "      <td>Yes</td>\n",
       "      <td>Yes</td>\n",
       "      <td>Yes</td>\n",
       "      <td>Yes</td>\n",
       "      <td>Yes</td>\n",
       "      <td>Yes</td>\n",
       "      <td></td>\n",
       "    </tr>\n",
       "    <tr>\n",
       "      <th>1179</th>\n",
       "      <td>9/26/2014 10:05</td>\n",
       "      <td>25</td>\n",
       "      <td>female</td>\n",
       "      <td>Bulgaria</td>\n",
       "      <td>UT</td>\n",
       "      <td>No</td>\n",
       "      <td>No</td>\n",
       "      <td>Yes</td>\n",
       "      <td>Sometimes</td>\n",
       "      <td>26-100</td>\n",
       "      <td>...</td>\n",
       "      <td>Don't know</td>\n",
       "      <td>Maybe</td>\n",
       "      <td>Maybe</td>\n",
       "      <td>Yes</td>\n",
       "      <td>Some of them</td>\n",
       "      <td>Maybe</td>\n",
       "      <td>No</td>\n",
       "      <td>No</td>\n",
       "      <td>No</td>\n",
       "      <td>NaN</td>\n",
       "    </tr>\n",
       "  </tbody>\n",
       "</table>\n",
       "<p>4 rows × 27 columns</p>\n",
       "</div>"
      ],
      "text/plain": [
       "            Timestamp  Age              Gender       Country state  \\\n",
       "319   8/27/2014 14:28   29                male        Latvia    NY   \n",
       "488   8/27/2014 16:21   26                Male        Israel    MD   \n",
       "989    8/29/2014 9:10    8  A little about you  Bahamas, The    IL   \n",
       "1179  9/26/2014 10:05   25              female      Bulgaria    UT   \n",
       "\n",
       "     self_employed family_history treatment work_interfere no_employees  ...  \\\n",
       "319             No             No        No            NaN       26-100  ...   \n",
       "488             No             No        No      Sometimes       25-Jun  ...   \n",
       "989            Yes            Yes       Yes          Often        5-Jan  ...   \n",
       "1179            No             No       Yes      Sometimes       26-100  ...   \n",
       "\n",
       "              leave mental_health_consequence phys_health_consequence  \\\n",
       "319   Somewhat easy                     Maybe                   Maybe   \n",
       "488       Very easy                     Maybe                      No   \n",
       "989       Very easy                       Yes                     Yes   \n",
       "1179     Don't know                     Maybe                   Maybe   \n",
       "\n",
       "         coworkers    supervisor mental_health_interview  \\\n",
       "319   Some of them  Some of them                      No   \n",
       "488   Some of them           Yes                      No   \n",
       "989            Yes           Yes                     Yes   \n",
       "1179           Yes  Some of them                   Maybe   \n",
       "\n",
       "     phys_health_interview mental_vs_physical obs_consequence  \\\n",
       "319                     No         Don't know              No   \n",
       "488                  Maybe                Yes              No   \n",
       "989                    Yes                Yes             Yes   \n",
       "1179                    No                 No              No   \n",
       "\n",
       "                                               comments  \n",
       "319                                                 NaN  \n",
       "488   Israel has public health insurance for everyon...  \n",
       "989                                                      \n",
       "1179                                                NaN  \n",
       "\n",
       "[4 rows x 27 columns]"
      ]
     },
     "execution_count": 9,
     "metadata": {},
     "output_type": "execute_result"
    }
   ],
   "source": [
    "# Display non-US countries with a state\n",
    "non_us_with_state"
   ]
  },
  {
   "cell_type": "markdown",
   "id": "7e197d84-b428-402b-859b-74b078810ab8",
   "metadata": {},
   "source": [
    "Row 989 responses in the columns of age, gender, country, state, and no_employees are not within expected range of responses and will be removed during the data cleansing process. The remaining 3 rows will also be removed as country and state do not line up with eachother. A possible reason is the 3 participates listed their home countries and could be on a work visa in the state listed."
   ]
  },
  {
   "cell_type": "markdown",
   "id": "5f409335-bcb5-43f2-acbd-6621f17eeb81",
   "metadata": {},
   "source": [
    "## B. Data Cleaning\n",
    "\n",
    ">For the data cleaning process, I will be dropping unrelated columns to the research question, handling null values, and converting the categorical data (such as 'Yes', 'No', 'Maybe') into numerical values for correlation analysis."
   ]
  },
  {
   "cell_type": "markdown",
   "id": "19ffd9c4-e360-4461-8289-492546151a15",
   "metadata": {},
   "source": [
    "#### B.1. Drop Unrelated Columns"
   ]
  },
  {
   "cell_type": "code",
   "execution_count": 10,
   "id": "5efc8fe1-b1c5-4a10-8bd0-2d657eafd4cb",
   "metadata": {},
   "outputs": [
    {
     "data": {
      "text/html": [
       "<div>\n",
       "<style scoped>\n",
       "    .dataframe tbody tr th:only-of-type {\n",
       "        vertical-align: middle;\n",
       "    }\n",
       "\n",
       "    .dataframe tbody tr th {\n",
       "        vertical-align: top;\n",
       "    }\n",
       "\n",
       "    .dataframe thead th {\n",
       "        text-align: right;\n",
       "    }\n",
       "</style>\n",
       "<table border=\"1\" class=\"dataframe\">\n",
       "  <thead>\n",
       "    <tr style=\"text-align: right;\">\n",
       "      <th></th>\n",
       "      <th>Age</th>\n",
       "      <th>Gender</th>\n",
       "      <th>Country</th>\n",
       "      <th>state</th>\n",
       "      <th>care_options</th>\n",
       "      <th>seek_help</th>\n",
       "      <th>coworkers</th>\n",
       "      <th>supervisor</th>\n",
       "      <th>mental_health_interview</th>\n",
       "    </tr>\n",
       "  </thead>\n",
       "  <tbody>\n",
       "    <tr>\n",
       "      <th>0</th>\n",
       "      <td>37</td>\n",
       "      <td>Female</td>\n",
       "      <td>United States</td>\n",
       "      <td>IL</td>\n",
       "      <td>Not sure</td>\n",
       "      <td>Yes</td>\n",
       "      <td>Some of them</td>\n",
       "      <td>Yes</td>\n",
       "      <td>No</td>\n",
       "    </tr>\n",
       "  </tbody>\n",
       "</table>\n",
       "</div>"
      ],
      "text/plain": [
       "   Age  Gender        Country state care_options seek_help     coworkers  \\\n",
       "0   37  Female  United States    IL     Not sure       Yes  Some of them   \n",
       "\n",
       "  supervisor mental_health_interview  \n",
       "0        Yes                      No  "
      ]
     },
     "execution_count": 10,
     "metadata": {},
     "output_type": "execute_result"
    }
   ],
   "source": [
    "# Create new data frame with relevant columns\n",
    "relevant_columns = ['Age', 'Gender', 'Country', 'state', 'care_options', 'seek_help', 'coworkers', 'supervisor', 'mental_health_interview']\n",
    "df_clean = df[relevant_columns]\n",
    "\n",
    "# Print rows to verify new data frame\n",
    "df_clean.head(1)"
   ]
  },
  {
   "cell_type": "code",
   "execution_count": 11,
   "id": "465b5adb-3852-4779-a624-b8c759990953",
   "metadata": {},
   "outputs": [],
   "source": [
    "# Creates a copy of df_clean to perform data cleaning\n",
    "df_clean_copy = df_clean.copy() "
   ]
  },
  {
   "cell_type": "code",
   "execution_count": 12,
   "id": "924d3889-dac1-4c0c-bec0-6fbc1c4fd7f8",
   "metadata": {},
   "outputs": [
    {
     "data": {
      "text/html": [
       "<div>\n",
       "<style scoped>\n",
       "    .dataframe tbody tr th:only-of-type {\n",
       "        vertical-align: middle;\n",
       "    }\n",
       "\n",
       "    .dataframe tbody tr th {\n",
       "        vertical-align: top;\n",
       "    }\n",
       "\n",
       "    .dataframe thead th {\n",
       "        text-align: right;\n",
       "    }\n",
       "</style>\n",
       "<table border=\"1\" class=\"dataframe\">\n",
       "  <thead>\n",
       "    <tr style=\"text-align: right;\">\n",
       "      <th></th>\n",
       "      <th>Age</th>\n",
       "      <th>Gender</th>\n",
       "      <th>Country</th>\n",
       "      <th>state</th>\n",
       "      <th>care_options</th>\n",
       "      <th>seek_help</th>\n",
       "      <th>coworkers</th>\n",
       "      <th>supervisor</th>\n",
       "      <th>mental_health_interview</th>\n",
       "    </tr>\n",
       "  </thead>\n",
       "  <tbody>\n",
       "    <tr>\n",
       "      <th>0</th>\n",
       "      <td>37</td>\n",
       "      <td>Female</td>\n",
       "      <td>United States</td>\n",
       "      <td>IL</td>\n",
       "      <td>Not sure</td>\n",
       "      <td>Yes</td>\n",
       "      <td>Some of them</td>\n",
       "      <td>Yes</td>\n",
       "      <td>No</td>\n",
       "    </tr>\n",
       "  </tbody>\n",
       "</table>\n",
       "</div>"
      ],
      "text/plain": [
       "   Age  Gender        Country state care_options seek_help     coworkers  \\\n",
       "0   37  Female  United States    IL     Not sure       Yes  Some of them   \n",
       "\n",
       "  supervisor mental_health_interview  \n",
       "0        Yes                      No  "
      ]
     },
     "execution_count": 12,
     "metadata": {},
     "output_type": "execute_result"
    }
   ],
   "source": [
    "# View columns in df_clean_copy to check if copied correctly\n",
    "df_clean_copy.head(1)"
   ]
  },
  {
   "cell_type": "markdown",
   "id": "6abf0361-828d-4e82-aed8-440ce9180971",
   "metadata": {},
   "source": [
    "To answer the research question, the following column are needed: Age, Gender, Country, state, care_options, seek_help, coworkers, supervisor, and mental_health_interview. A new data frame with the required columns was created and a copy of the data frame was created to perform futher data cleaning and data analysis. The copy data frame will perserve the orginal data frame."
   ]
  },
  {
   "cell_type": "markdown",
   "id": "2b1352e3-b7a9-4df1-aca2-9515b407000c",
   "metadata": {},
   "source": [
    "#### B.2. Handle Null Values"
   ]
  },
  {
   "cell_type": "code",
   "execution_count": 13,
   "id": "112bd13f-e292-42b5-b18f-c8b764b1998c",
   "metadata": {},
   "outputs": [
    {
     "data": {
      "text/plain": [
       "Age                          0\n",
       "Gender                       0\n",
       "Country                      0\n",
       "state                      515\n",
       "care_options                 0\n",
       "seek_help                    0\n",
       "coworkers                    0\n",
       "supervisor                   0\n",
       "mental_health_interview      0\n",
       "dtype: int64"
      ]
     },
     "execution_count": 13,
     "metadata": {},
     "output_type": "execute_result"
    }
   ],
   "source": [
    "# View null values\n",
    "df_clean_copy.isnull().sum()"
   ]
  },
  {
   "cell_type": "code",
   "execution_count": 14,
   "id": "f93ba8bf-f336-4e33-aa3d-28eb3abda41b",
   "metadata": {},
   "outputs": [],
   "source": [
    "# Create a boolean mask for rows to drop\n",
    "# Drop rows of non United States countries with values in 'state' column\n",
    "condition = (df_clean_copy['Country'] != 'United States') & (df_clean_copy['state'].notnull())\n",
    "\n",
    "# Drop rows where the condition is True\n",
    "df_clean_copy = df_clean_copy[~condition]\n",
    "\n",
    "# Reset index \n",
    "df_clean_copy = df_clean_copy.reset_index(drop=True)"
   ]
  },
  {
   "cell_type": "code",
   "execution_count": 15,
   "id": "fb6ee0a3-cb1d-4ad5-9934-1ba0aa9fc6f9",
   "metadata": {},
   "outputs": [
    {
     "name": "stdout",
     "output_type": "stream",
     "text": [
      "<class 'pandas.core.frame.DataFrame'>\n",
      "RangeIndex: 1255 entries, 0 to 1254\n",
      "Data columns (total 9 columns):\n",
      " #   Column                   Non-Null Count  Dtype \n",
      "---  ------                   --------------  ----- \n",
      " 0   Age                      1255 non-null   int64 \n",
      " 1   Gender                   1255 non-null   object\n",
      " 2   Country                  1255 non-null   object\n",
      " 3   state                    740 non-null    object\n",
      " 4   care_options             1255 non-null   object\n",
      " 5   seek_help                1255 non-null   object\n",
      " 6   coworkers                1255 non-null   object\n",
      " 7   supervisor               1255 non-null   object\n",
      " 8   mental_health_interview  1255 non-null   object\n",
      "dtypes: int64(1), object(8)\n",
      "memory usage: 88.4+ KB\n"
     ]
    }
   ],
   "source": [
    "# Confirm dropped rows\n",
    "df_clean_copy.info()"
   ]
  },
  {
   "cell_type": "code",
   "execution_count": 16,
   "id": "5bbc0652-536a-4d29-87fe-173282f4c34d",
   "metadata": {},
   "outputs": [
    {
     "name": "stdout",
     "output_type": "stream",
     "text": [
      "Number of rows with country in United States and state is not null: 0\n"
     ]
    }
   ],
   "source": [
    "# Filter for countries not equal to 'United States' and where 'state' is not null\n",
    "non_us_with_state_drop = df_clean_copy[(df_clean_copy['Country'] != 'United States') & (df_clean_copy['state'].notnull())]\n",
    "\n",
    "# Get the count of such rows\n",
    "non_us_with_state_drop_count = non_us_with_state_drop.shape[0]\n",
    "\n",
    "# Display the count\n",
    "print(\"Number of rows with country in United States and state is not null:\", non_us_with_state_drop_count)"
   ]
  },
  {
   "cell_type": "markdown",
   "id": "6cc84bf3-1180-40ee-9bd0-7ac625b6dc46",
   "metadata": {},
   "source": [
    "Total rows have been reduced from 1259 to 1255. Running a query for countries other than the United States that have a state returned 0, which confirms the 4 rows found during the exploratory analysis have been dropped. Next I will assign values to null values in 'state' where 'Country' is United States."
   ]
  },
  {
   "cell_type": "code",
   "execution_count": 17,
   "id": "7fe65a80-fcb1-4f85-a619-aa7a832f84c3",
   "metadata": {},
   "outputs": [],
   "source": [
    "# Update rows where Country is 'United States' and state is null with 'DC'\n",
    "df_clean_copy.loc[(df_clean_copy['Country'] == 'United States') & (df_clean_copy['state'].isnull()), 'state'] = 'DC'"
   ]
  },
  {
   "cell_type": "code",
   "execution_count": 18,
   "id": "1f171ffc-4fac-4b45-b78a-1c7e4459d9d3",
   "metadata": {},
   "outputs": [
    {
     "data": {
      "text/plain": [
       "Age                          0\n",
       "Gender                       0\n",
       "Country                      0\n",
       "state                      504\n",
       "care_options                 0\n",
       "seek_help                    0\n",
       "coworkers                    0\n",
       "supervisor                   0\n",
       "mental_health_interview      0\n",
       "dtype: int64"
      ]
     },
     "execution_count": 18,
     "metadata": {},
     "output_type": "execute_result"
    }
   ],
   "source": [
    "# Check null values\n",
    "df_clean_copy.isnull().sum()"
   ]
  },
  {
   "cell_type": "code",
   "execution_count": 19,
   "id": "997240d0-24d8-44f9-88ad-b9d7aa3de571",
   "metadata": {},
   "outputs": [
    {
     "name": "stdout",
     "output_type": "stream",
     "text": [
      "Number of rows with country not United States: 504\n"
     ]
    }
   ],
   "source": [
    "# Filter the DataFrame for countries not equal to 'United States'\n",
    "non_us_countries = df_clean_copy[df_clean_copy['Country'] != 'United States']\n",
    "\n",
    "# Get the total count of non-US countries\n",
    "non_us_new_count = non_us_countries.shape[0]\n",
    "\n",
    "# Display the result\n",
    "print(\"Number of rows with country not United States:\", non_us_new_count)"
   ]
  },
  {
   "cell_type": "markdown",
   "id": "65a1a768-b581-4de7-a7fc-e162baf45a9c",
   "metadata": {},
   "source": [
    "To resolve null values, I first began with deleting rows that should have null values in the 'state' column. These rows included the 4 rows that contained state values although the country was outside of the United States. I then proceeded to fill null values in 'state' column of rows where country is United States with DC. I made the assumption that the participants lived in Washington, DC and left the state question blank because Washington, DC is a district and not a state. This decision filled in the 11 null values that was previously found. After handling the null values, there are now 504 null values in the 'state' column that is attributed to the 504 non United States countries. My decision is to leave these cells null and will assign it a numerical value when converting the categorical data into numerical values for correlation analysis."
   ]
  },
  {
   "cell_type": "markdown",
   "id": "ed757b19-08a7-4bc6-ba76-091e2c4cd2d2",
   "metadata": {},
   "source": [
    "#### B-3. Convert Categorical Data"
   ]
  },
  {
   "cell_type": "markdown",
   "id": "1ef5ef6d-f6b9-4f93-a2a8-423f7c82378a",
   "metadata": {},
   "source": [
    "In the following steps, I will perform data normalization to ensure that all data entries in a column follow a consistent format. Afterwards, I will convert the categorical data into numerical values for correlation analysis. "
   ]
  },
  {
   "cell_type": "markdown",
   "id": "e1abf073-301f-4559-8aa7-6d54e33cb998",
   "metadata": {},
   "source": [
    "##### B-3.1 Data Normalization"
   ]
  },
  {
   "cell_type": "code",
   "execution_count": 20,
   "id": "38d4a840-5055-40ed-bf15-c3f1f7a14ae3",
   "metadata": {},
   "outputs": [
    {
     "data": {
      "text/plain": [
       "array(['Female', 'M', 'Male', 'male', 'female', 'm', 'Male-ish', 'maile',\n",
       "       'Trans-female', 'Cis Female', 'F', 'something kinda male?',\n",
       "       'Cis Male', 'Woman', 'f', 'Mal', 'Male (CIS)', 'queer/she/they',\n",
       "       'non-binary', 'Femake', 'woman', 'Make', 'Nah', 'All', 'Enby',\n",
       "       'fluid', 'Genderqueer', 'Female ', 'Androgyne', 'Agender',\n",
       "       'cis-female/femme', 'Guy (-ish) ^_^', 'male leaning androgynous',\n",
       "       'Male ', 'Man', 'Trans woman', 'msle', 'Neuter', 'Female (trans)',\n",
       "       'queer', 'Female (cis)', 'Mail', 'cis male', 'Malr', 'p', 'femail',\n",
       "       'Cis Man', 'ostensibly male, unsure what that really means'],\n",
       "      dtype=object)"
      ]
     },
     "execution_count": 20,
     "metadata": {},
     "output_type": "execute_result"
    }
   ],
   "source": [
    "# View unique values for 'Gender' column\n",
    "df_clean_copy['Gender'].unique()"
   ]
  },
  {
   "cell_type": "code",
   "execution_count": 21,
   "id": "4fd92819-0562-4d17-8696-e110c45092db",
   "metadata": {},
   "outputs": [],
   "source": [
    "# Perform data normalization on 'Gender' column\n",
    "\n",
    "# List of unique values to be changed to 'Female'\n",
    "change_to_female = ['female', 'f', 'Female', 'Woman', 'Femake', 'woman', 'Female ', 'cis-female/femme', 'Female (cis)', 'femail', 'Cis Female', 'F']\n",
    "# Replace values with 'Female'\n",
    "df_clean_copy['Gender'] = df_clean_copy['Gender'].replace(change_to_female, 'Female')\n",
    "\n",
    "# List of unique values to be changed to 'Male'\n",
    "change_to_male = ['M', 'Male', 'male', 'm', 'Male-ish', 'maile', 'Cis Male', 'Mal', 'Male (CIS)', 'Make', 'Male ', 'Man', 'msle', 'Mail', 'cis male', 'Malr', 'Cis Man']\n",
    "# Replace values with 'Male'\n",
    "df_clean_copy['Gender'] = df_clean_copy['Gender'].replace(change_to_male, 'Male')\n",
    "\n",
    "# List of unique values to be changed to 'Other'\n",
    "change_to_other = ['Male-ish', 'Trans-female', 'something kinda male?', 'queer/she/they', 'non-binary', 'Nah', 'All', 'Enby', 'fluid', 'Genderqueer', 'Androgyne', 'Agender', 'Guy (-ish) ^_^', 'male leaning androgynous', 'Trans woman', 'Neuter', 'Female (trans)',\n",
    "       'queer', 'fluid', 'Genderqueer', 'p', 'ostensibly male, unsure what that really means']\n",
    "# Replace values with 'Other'\n",
    "df_clean_copy['Gender'] = df_clean_copy['Gender'].replace(change_to_other, 'Other')"
   ]
  },
  {
   "cell_type": "code",
   "execution_count": 22,
   "id": "8a5b8edf-6ab7-47c3-81b5-51359decc475",
   "metadata": {},
   "outputs": [
    {
     "data": {
      "text/plain": [
       "array(['Female', 'Male', 'Other'], dtype=object)"
      ]
     },
     "execution_count": 22,
     "metadata": {},
     "output_type": "execute_result"
    }
   ],
   "source": [
    "# Check 'Gender' column only contains values Male, Female, or Other\n",
    "df_clean_copy['Gender'].unique()"
   ]
  },
  {
   "cell_type": "markdown",
   "id": "2dc27bb3-860d-470e-9cc3-888febfcbf80",
   "metadata": {},
   "source": [
    "All values in 'Gender' column have been changed to have one of the following values: Male, Female, Other"
   ]
  },
  {
   "cell_type": "code",
   "execution_count": 23,
   "id": "24c47da2-97bf-4ac9-be8a-51c0812c1726",
   "metadata": {},
   "outputs": [],
   "source": [
    "# Change country to Other if not United States or United Kingdom\n",
    "df_clean_copy['Country'] = df_clean_copy['Country'].apply(lambda x: 'Other' if x not in ['United States', 'United Kingdom'] else x)"
   ]
  },
  {
   "cell_type": "code",
   "execution_count": 24,
   "id": "ad7908db-fa99-43b6-86d7-0bf1774dedc9",
   "metadata": {},
   "outputs": [
    {
     "data": {
      "text/plain": [
       "array(['United States', 'Other', 'United Kingdom'], dtype=object)"
      ]
     },
     "execution_count": 24,
     "metadata": {},
     "output_type": "execute_result"
    }
   ],
   "source": [
    "# Check 'Country' column only contains values United States, United Kingdom, or Other\n",
    "df_clean_copy['Country'].unique()"
   ]
  },
  {
   "cell_type": "markdown",
   "id": "f2c8d85b-fd17-4525-a548-e87e99bb8d32",
   "metadata": {},
   "source": [
    "All values in 'Country' column have been changed to have one of the following values: United State, United Kingdom, Other"
   ]
  },
  {
   "cell_type": "code",
   "execution_count": 29,
   "id": "2ed5e9cd-07bf-4f7a-9622-dabc234664f4",
   "metadata": {},
   "outputs": [
    {
     "data": {
      "text/plain": [
       "array(['IL', 'IN', nan, 'TX', 'TN', 'MI', 'OH', 'CA', 'CT', 'MD', 'NY',\n",
       "       'NC', 'MA', 'IA', 'PA', 'WA', 'WI', 'UT', 'DC', 'NM', 'OR', 'FL',\n",
       "       'MN', 'MO', 'AZ', 'CO', 'GA', 'NE', 'WV', 'OK', 'KS', 'VA', 'NH',\n",
       "       'KY', 'AL', 'NV', 'NJ', 'SC', 'VT', 'SD', 'ID', 'MS', 'RI', 'WY',\n",
       "       'LA', 'ME'], dtype=object)"
      ]
     },
     "execution_count": 29,
     "metadata": {},
     "output_type": "execute_result"
    }
   ],
   "source": [
    "# Check 'state' column for data normalization\n",
    "df_clean_copy['state'].unique()"
   ]
  },
  {
   "cell_type": "markdown",
   "id": "c4fef039-87e6-493e-86d8-4082a55f74a0",
   "metadata": {},
   "source": [
    "The 'state' column already has data normalization and does not require revising."
   ]
  },
  {
   "cell_type": "code",
   "execution_count": 26,
   "id": "c590e4db-f50a-45b1-8b0c-cf2e7d609e4d",
   "metadata": {},
   "outputs": [
    {
     "data": {
      "text/plain": [
       "array(['Not sure', 'No', 'Yes'], dtype=object)"
      ]
     },
     "execution_count": 26,
     "metadata": {},
     "output_type": "execute_result"
    }
   ],
   "source": [
    "# Check 'care_options' column for data normalization\n",
    "df_clean_copy['care_options'].unique()"
   ]
  },
  {
   "cell_type": "markdown",
   "id": "e8337f47-764c-445e-8025-175db5bfd7d8",
   "metadata": {},
   "source": [
    "The 'care_options' column already has data normalization and does not require revising."
   ]
  },
  {
   "cell_type": "code",
   "execution_count": 30,
   "id": "8d4da7d8-f7d2-4496-8799-57c7d65b0947",
   "metadata": {},
   "outputs": [
    {
     "data": {
      "text/plain": [
       "array(['Yes', \"Don't know\", 'No'], dtype=object)"
      ]
     },
     "execution_count": 30,
     "metadata": {},
     "output_type": "execute_result"
    }
   ],
   "source": [
    "# Check 'seek_help' column for data normalization\n",
    "df_clean_copy['seek_help'].unique()"
   ]
  },
  {
   "cell_type": "markdown",
   "id": "d7a78b19-ad50-4094-8b68-6a33eaacf9db",
   "metadata": {},
   "source": [
    "The 'seek_help column already has data normalization and does not require revising."
   ]
  },
  {
   "cell_type": "code",
   "execution_count": 31,
   "id": "3f7d87ec-236d-4787-b198-4ce4490b45ff",
   "metadata": {},
   "outputs": [
    {
     "data": {
      "text/plain": [
       "array(['Some of them', 'No', 'Yes'], dtype=object)"
      ]
     },
     "execution_count": 31,
     "metadata": {},
     "output_type": "execute_result"
    }
   ],
   "source": [
    "# Check 'coworkers' column for data normalization\n",
    "df_clean_copy['coworkers'].unique()"
   ]
  },
  {
   "cell_type": "markdown",
   "id": "75b6d256-08b5-40fe-b704-ebfea774916c",
   "metadata": {},
   "source": [
    "The 'coworkers' column already has data normalization and does not require revising."
   ]
  },
  {
   "cell_type": "code",
   "execution_count": 32,
   "id": "0d5b7c74-56e9-46bf-9972-6833352f9bcb",
   "metadata": {},
   "outputs": [
    {
     "data": {
      "text/plain": [
       "array(['Yes', 'No', 'Some of them'], dtype=object)"
      ]
     },
     "execution_count": 32,
     "metadata": {},
     "output_type": "execute_result"
    }
   ],
   "source": [
    "# Check 'supervisor' column for data normalization\n",
    "df_clean_copy['supervisor'].unique()"
   ]
  },
  {
   "cell_type": "markdown",
   "id": "422fe307-3f74-422c-a216-7964d7f0b22e",
   "metadata": {},
   "source": [
    "The 'supervisor' column already has data normalization and does not require revising."
   ]
  },
  {
   "cell_type": "code",
   "execution_count": 33,
   "id": "6de31a31-9291-4bb7-b71c-f5a8448c1ce2",
   "metadata": {},
   "outputs": [
    {
     "data": {
      "text/plain": [
       "array(['No', 'Yes', 'Maybe'], dtype=object)"
      ]
     },
     "execution_count": 33,
     "metadata": {},
     "output_type": "execute_result"
    }
   ],
   "source": [
    "# Check 'mental_health_interview' column for data normalization\n",
    "df_clean_copy['mental_health_interview'].unique()"
   ]
  },
  {
   "cell_type": "markdown",
   "id": "f8431b11-2dda-407b-888b-dd4880164c31",
   "metadata": {},
   "source": [
    "The 'mental_health_interview' column has data normalization and does not require revising."
   ]
  },
  {
   "cell_type": "markdown",
   "id": "74d8e8bc-fa6b-4ea3-afd4-678266d90328",
   "metadata": {},
   "source": [
    "##### B-3.2 Convert Categorical Data"
   ]
  },
  {
   "cell_type": "code",
   "execution_count": 34,
   "id": "be8cb56c-17d1-4424-8ea8-97c233fc28ee",
   "metadata": {},
   "outputs": [],
   "source": [
    "# Convert columns to numerical values\n",
    "df_clean_copy['gender_numeric'] = df_clean_copy['Gender'].map({'Other': 0, 'Male': 1, 'Female': 2})\n",
    "df_clean_copy['country_numeric'] = df_clean_copy['Country'].map({'Other': 0, 'United States': 1, 'United Kingdom': 2})\n",
    "df_clean_copy['care_options_numeric'] = df_clean_copy['care_options'].map({'Yes': 1, 'No': 0, 'Not sure': 2})\n",
    "df_clean_copy['seek_help_numeric'] = df_clean_copy['seek_help'].map({'Yes': 1, 'No': 0, 'Don\\'t know': 2})\n",
    "df_clean_copy['coworkers_numeric'] = df_clean_copy['coworkers'].map({'Yes': 1, 'No': 0, 'Some of them': 2})\n",
    "df_clean_copy['supervisor_numeric'] = df_clean_copy['supervisor'].map({'Yes': 1, 'No': 0, 'Some of them': 2})\n",
    "df_clean_copy['mental_health_interview_numeric'] = df_clean_copy['mental_health_interview'].map({'Yes': 1, 'No': 0, 'Maybe': 2})"
   ]
  },
  {
   "cell_type": "code",
   "execution_count": 35,
   "id": "b086f845-e11b-4387-94bb-70ce054a772c",
   "metadata": {},
   "outputs": [
    {
     "data": {
      "text/html": [
       "<div>\n",
       "<style scoped>\n",
       "    .dataframe tbody tr th:only-of-type {\n",
       "        vertical-align: middle;\n",
       "    }\n",
       "\n",
       "    .dataframe tbody tr th {\n",
       "        vertical-align: top;\n",
       "    }\n",
       "\n",
       "    .dataframe thead th {\n",
       "        text-align: right;\n",
       "    }\n",
       "</style>\n",
       "<table border=\"1\" class=\"dataframe\">\n",
       "  <thead>\n",
       "    <tr style=\"text-align: right;\">\n",
       "      <th></th>\n",
       "      <th>Age</th>\n",
       "      <th>Gender</th>\n",
       "      <th>Country</th>\n",
       "      <th>state</th>\n",
       "      <th>care_options</th>\n",
       "      <th>seek_help</th>\n",
       "      <th>coworkers</th>\n",
       "      <th>supervisor</th>\n",
       "      <th>mental_health_interview</th>\n",
       "      <th>gender_numeric</th>\n",
       "      <th>country_numeric</th>\n",
       "      <th>care_options_numeric</th>\n",
       "      <th>seek_help_numeric</th>\n",
       "      <th>coworkers_numeric</th>\n",
       "      <th>supervisor_numeric</th>\n",
       "      <th>mental_health_interview_numeric</th>\n",
       "    </tr>\n",
       "  </thead>\n",
       "  <tbody>\n",
       "    <tr>\n",
       "      <th>0</th>\n",
       "      <td>37</td>\n",
       "      <td>Female</td>\n",
       "      <td>United States</td>\n",
       "      <td>IL</td>\n",
       "      <td>Not sure</td>\n",
       "      <td>Yes</td>\n",
       "      <td>Some of them</td>\n",
       "      <td>Yes</td>\n",
       "      <td>No</td>\n",
       "      <td>2</td>\n",
       "      <td>1</td>\n",
       "      <td>2</td>\n",
       "      <td>1</td>\n",
       "      <td>2</td>\n",
       "      <td>1</td>\n",
       "      <td>0</td>\n",
       "    </tr>\n",
       "    <tr>\n",
       "      <th>1</th>\n",
       "      <td>44</td>\n",
       "      <td>Male</td>\n",
       "      <td>United States</td>\n",
       "      <td>IN</td>\n",
       "      <td>No</td>\n",
       "      <td>Don't know</td>\n",
       "      <td>No</td>\n",
       "      <td>No</td>\n",
       "      <td>No</td>\n",
       "      <td>1</td>\n",
       "      <td>1</td>\n",
       "      <td>0</td>\n",
       "      <td>2</td>\n",
       "      <td>0</td>\n",
       "      <td>0</td>\n",
       "      <td>0</td>\n",
       "    </tr>\n",
       "    <tr>\n",
       "      <th>2</th>\n",
       "      <td>32</td>\n",
       "      <td>Male</td>\n",
       "      <td>Other</td>\n",
       "      <td>NaN</td>\n",
       "      <td>No</td>\n",
       "      <td>No</td>\n",
       "      <td>Yes</td>\n",
       "      <td>Yes</td>\n",
       "      <td>Yes</td>\n",
       "      <td>1</td>\n",
       "      <td>0</td>\n",
       "      <td>0</td>\n",
       "      <td>0</td>\n",
       "      <td>1</td>\n",
       "      <td>1</td>\n",
       "      <td>1</td>\n",
       "    </tr>\n",
       "    <tr>\n",
       "      <th>3</th>\n",
       "      <td>31</td>\n",
       "      <td>Male</td>\n",
       "      <td>United Kingdom</td>\n",
       "      <td>NaN</td>\n",
       "      <td>Yes</td>\n",
       "      <td>No</td>\n",
       "      <td>Some of them</td>\n",
       "      <td>No</td>\n",
       "      <td>Maybe</td>\n",
       "      <td>1</td>\n",
       "      <td>2</td>\n",
       "      <td>1</td>\n",
       "      <td>0</td>\n",
       "      <td>2</td>\n",
       "      <td>0</td>\n",
       "      <td>2</td>\n",
       "    </tr>\n",
       "    <tr>\n",
       "      <th>4</th>\n",
       "      <td>31</td>\n",
       "      <td>Male</td>\n",
       "      <td>United States</td>\n",
       "      <td>TX</td>\n",
       "      <td>No</td>\n",
       "      <td>Don't know</td>\n",
       "      <td>Some of them</td>\n",
       "      <td>Yes</td>\n",
       "      <td>Yes</td>\n",
       "      <td>1</td>\n",
       "      <td>1</td>\n",
       "      <td>0</td>\n",
       "      <td>2</td>\n",
       "      <td>2</td>\n",
       "      <td>1</td>\n",
       "      <td>1</td>\n",
       "    </tr>\n",
       "  </tbody>\n",
       "</table>\n",
       "</div>"
      ],
      "text/plain": [
       "   Age  Gender         Country state care_options   seek_help     coworkers  \\\n",
       "0   37  Female   United States    IL     Not sure         Yes  Some of them   \n",
       "1   44    Male   United States    IN           No  Don't know            No   \n",
       "2   32    Male           Other   NaN           No          No           Yes   \n",
       "3   31    Male  United Kingdom   NaN          Yes          No  Some of them   \n",
       "4   31    Male   United States    TX           No  Don't know  Some of them   \n",
       "\n",
       "  supervisor mental_health_interview  gender_numeric  country_numeric  \\\n",
       "0        Yes                      No               2                1   \n",
       "1         No                      No               1                1   \n",
       "2        Yes                     Yes               1                0   \n",
       "3         No                   Maybe               1                2   \n",
       "4        Yes                     Yes               1                1   \n",
       "\n",
       "   care_options_numeric  seek_help_numeric  coworkers_numeric  \\\n",
       "0                     2                  1                  2   \n",
       "1                     0                  2                  0   \n",
       "2                     0                  0                  1   \n",
       "3                     1                  0                  2   \n",
       "4                     0                  2                  2   \n",
       "\n",
       "   supervisor_numeric  mental_health_interview_numeric  \n",
       "0                   1                                0  \n",
       "1                   0                                0  \n",
       "2                   1                                1  \n",
       "3                   0                                2  \n",
       "4                   1                                1  "
      ]
     },
     "execution_count": 35,
     "metadata": {},
     "output_type": "execute_result"
    }
   ],
   "source": [
    "# Checks numerical conversion\n",
    "df_clean_copy.head()"
   ]
  },
  {
   "cell_type": "markdown",
   "id": "fa1121bf-d10a-4f8f-974f-43d25b5ffde1",
   "metadata": {},
   "source": [
    "Data cleaning is completed and numerical values has been assigned to columns for correlation analysis."
   ]
  },
  {
   "cell_type": "markdown",
   "id": "d8b702d6-3391-4fdf-b8a2-9dc817c964f0",
   "metadata": {},
   "source": [
    "### C. Statistical and Correlation Analysis"
   ]
  },
  {
   "cell_type": "markdown",
   "id": "5a6448a8-3368-4158-a79f-fc9bda94d9de",
   "metadata": {},
   "source": [
    "#### C.1 Research Question Part A\n",
    ">#### Is there a correlation between the availability of mental health resources and employees’ willingness to discuss mental health issues at work?\n",
    "\n",
    "For part A of the research question, the null hypothesis states that there is no correlation between the availability of mental health resources and employees' willingness to discuss mental health issues. The Pearson Correlation statistical test will be implored to evaluate the correlation between these two variables. The significance of the correlation will be assessed using a p-value, and an alpha value (α) of 0.05 will be used as the threshold for statistical significance."
   ]
  },
  {
   "cell_type": "code",
   "execution_count": 36,
   "id": "16687c3b-5e2c-4b72-8e80-f2f99e16f17f",
   "metadata": {},
   "outputs": [
    {
     "name": "stdout",
     "output_type": "stream",
     "text": [
      "Correlation Matrix with Coworkers:\n",
      "                       care_options_numeric  seek_help_numeric  \\\n",
      "care_options_numeric              1.000000           0.250545   \n",
      "seek_help_numeric                 0.250545           1.000000   \n",
      "coworkers_numeric                 0.034163           0.024091   \n",
      "\n",
      "                      coworkers_numeric  \n",
      "care_options_numeric           0.034163  \n",
      "seek_help_numeric              0.024091  \n",
      "coworkers_numeric              1.000000   \n",
      "\n",
      "Correlation Matrix with Supervisor:\n",
      "                       care_options_numeric  seek_help_numeric  \\\n",
      "care_options_numeric              1.000000           0.250545   \n",
      "seek_help_numeric                 0.250545           1.000000   \n",
      "supervisor_numeric                0.094944           0.050237   \n",
      "\n",
      "                      supervisor_numeric  \n",
      "care_options_numeric            0.094944  \n",
      "seek_help_numeric               0.050237  \n",
      "supervisor_numeric              1.000000   \n",
      "\n",
      "Correlation Matrix with Interview:\n",
      "                                  care_options_numeric  seek_help_numeric  \\\n",
      "care_options_numeric                         1.000000           0.250545   \n",
      "seek_help_numeric                            0.250545           1.000000   \n",
      "mental_health_interview_numeric              0.005482           0.011690   \n",
      "\n",
      "                                 mental_health_interview_numeric  \n",
      "care_options_numeric                                    0.005482  \n",
      "seek_help_numeric                                       0.011690  \n",
      "mental_health_interview_numeric                         1.000000  \n"
     ]
    }
   ],
   "source": [
    "# Correlation between availability of resources and willingness to discuss\n",
    "correlation_with_coworkers = df_clean_copy[['care_options_numeric', 'seek_help_numeric', 'coworkers_numeric']].corr(method='pearson')\n",
    "correlation_with_supervisor = df_clean_copy[['care_options_numeric', 'seek_help_numeric', 'supervisor_numeric']].corr(method='pearson')\n",
    "correlation_with_interview = df_clean_copy[['care_options_numeric', 'seek_help_numeric', 'mental_health_interview_numeric']].corr(method='pearson')\n",
    "\n",
    "# Display correlation matrices\n",
    "print(\"Correlation Matrix with Coworkers:\\n\", correlation_with_coworkers, '\\n')\n",
    "print(\"Correlation Matrix with Supervisor:\\n\", correlation_with_supervisor, '\\n')\n",
    "print(\"Correlation Matrix with Interview:\\n\", correlation_with_interview)\n"
   ]
  },
  {
   "cell_type": "code",
   "execution_count": 37,
   "id": "35b997e1-9bf3-4555-a114-508a7e415715",
   "metadata": {},
   "outputs": [
    {
     "name": "stdout",
     "output_type": "stream",
     "text": [
      "\n",
      "Pearson Correlation Results:\n",
      "Correlation with Coworkers: Coefficient = 0.03, p-value = 0.2265\n",
      "Correlation with Supervisor: Coefficient = 0.09, p-value = 0.0008\n",
      "Correlation with Mental Health Interview: Coefficient = 0.01, p-value = 0.8462\n"
     ]
    }
   ],
   "source": [
    "# Calculate p-values for Pearson correlations\n",
    "pearson_coworkers = stats.pearsonr(df_clean_copy['care_options_numeric'], df_clean_copy['coworkers_numeric'])\n",
    "pearson_supervisor = stats.pearsonr(df_clean_copy['care_options_numeric'], df_clean_copy['supervisor_numeric'])\n",
    "pearson_interview = stats.pearsonr(df_clean_copy['care_options_numeric'], df_clean_copy['mental_health_interview_numeric'])\n",
    "\n",
    "print(\"\\nPearson Correlation Results:\")\n",
    "print(f\"Correlation with Coworkers: Coefficient = {pearson_coworkers[0]:.2f}, p-value = {pearson_coworkers[1]:.4f}\")\n",
    "print(f\"Correlation with Supervisor: Coefficient = {pearson_supervisor[0]:.2f}, p-value = {pearson_supervisor[1]:.4f}\")\n",
    "print(f\"Correlation with Mental Health Interview: Coefficient = {pearson_interview[0]:.2f}, p-value = {pearson_interview[1]:.4f}\")"
   ]
  },
  {
   "cell_type": "code",
   "execution_count": 38,
   "id": "9c87d9e6-2b8b-4410-997a-476fa33fdf4f",
   "metadata": {},
   "outputs": [
    {
     "name": "stdout",
     "output_type": "stream",
     "text": [
      "The correlation with coworkers is not statistically significant.\n",
      "The correlation with supervisor is statistically significant.\n",
      "The correlation with mental health interview is not statistically significant.\n"
     ]
    }
   ],
   "source": [
    "# Compare p-values with alpha (0.05)\n",
    "alpha = 0.05\n",
    "if pearson_coworkers[1] < alpha:\n",
    "    print(\"The correlation with coworkers is statistically significant.\")\n",
    "else:\n",
    "    print(\"The correlation with coworkers is not statistically significant.\")\n",
    "\n",
    "if pearson_supervisor[1] < alpha:\n",
    "    print(\"The correlation with supervisor is statistically significant.\")\n",
    "else:\n",
    "    print(\"The correlation with supervisor is not statistically significant.\")\n",
    "\n",
    "if pearson_interview[1] < alpha:\n",
    "    print(\"The correlation with mental health interview is statistically significant.\")\n",
    "else:\n",
    "    print(\"The correlation with mental health interview is not statistically significant.\")"
   ]
  },
  {
   "cell_type": "markdown",
   "id": "d73d7d59-ba3b-4fa8-bfb2-b92975ea10ca",
   "metadata": {},
   "source": [
    "#### C.1.1 Graphs and Visual Analysis"
   ]
  },
  {
   "cell_type": "code",
   "execution_count": 39,
   "id": "ff029085-4305-461e-b2ee-b22af0f611fd",
   "metadata": {},
   "outputs": [
    {
     "data": {
      "image/png": "[encoded data removed]",
      "text/plain": [
       "<Figure size 800x600 with 2 Axes>"
      ]
     },
     "metadata": {},
     "output_type": "display_data"
    }
   ],
   "source": [
    "# Correlation matrix heatmap\n",
    "plt.figure(figsize=(8, 6))\n",
    "sns.heatmap(df_clean_copy[['care_options_numeric', 'seek_help_numeric', 'coworkers_numeric', 'supervisor_numeric', 'mental_health_interview_numeric']].corr(), annot=True, cmap='coolwarm', vmin=-1, vmax=1)\n",
    "plt.title(\"Correlation Matrix Heatmap\")\n",
    "plt.show()"
   ]
  },
  {
   "cell_type": "markdown",
   "id": "888072ee-26c6-496b-b3c8-45f71bcf117b",
   "metadata": {},
   "source": [
    "**Correlation Matrix Heatmap:** Shows correlations between mental health resources (care_options_numeric, seek_help_numeric) and willingness to discuss mental health issues with coworkers, supervisors, and in interviews."
   ]
  },
  {
   "cell_type": "markdown",
   "id": "fee2e9bb-66e7-4340-9623-e673d5511360",
   "metadata": {},
   "source": [
    "### Research Question Part A Summary\n",
    "\n",
    ">**Is there a correlation between the availability of mental health resources and employees’ willingness to discuss mental health issues at work?**\n",
    "\n",
    "The following are the correlation results of the willingness to discuss mental health issues at work:\n",
    "\n",
    "**Correlation with coworkers:** The correlation coefficient between the availability of mental health resources and comfort discussing mental health with coworkers is 0.03, with a p-value of 0.2265. This indicates a very weak positive correlation, which is not statistically significant since the p-value is greater than the significance level (alpha = 0.05). Thus, we fail to reject the null hypothesis that there is no correlation.\n",
    "\n",
    "**Correlation with supervisor:** The correlation coefficient between the availability of mental health resources and comfort discussing mental health with a supervisor is 0.09, with a p-value of 0.0008. This indicates a weak positive correlation, which is statistically significant at alpha = 0.05. Therefore, we reject the null hypothesis and conclude that there is a significant, though weak, correlation between the availability of mental health resources and willingness to discuss with a supervisor.\n",
    "\n",
    "**Correlation with mental health interview:** The correlation coefficient between the availability of mental health resources and willingness to discuss mental health during an interview is 0.01, with a p-value of 0.8462. This indicates an extremely weak correlation, which is not statistically significant, as the p-value exceeds 0.05. We fail to reject the null hypothesis for this variable.\n",
    "\n",
    "**Part A Summary Conclusion:** The analysis showed that there is a weak yet statistically significant correlation between the availability of mental health resources, such as knowing whether mental health care options are available or if employees are encouraged to seek help, and employees' comfort levels in discussing mental health issues with their supervisors. This means that, while the effect is small, employees who are aware of the mental health resources available to them feel more comfortable approaching their supervisors with mental health concerns. This finding suggests that supervisors play a crucial role in creating a supportive environment when it comes to mental health in the workplace. Since employees are more likely to feel comfortable discussing mental health issues with supervisors when they know mental health resources exist, organizations could benefit from promoting their mental health programs more actively, especially emphasizing the role supervisors can play in these conversations.\n",
    "\n",
    "In contrast, no significant correlation was found between the availability of mental health resources and employees' comfort levels in discussing mental health with coworkers or during interviews. This may indicate that while formal resources and support systems can influence conversations with supervisors, who hold a position of authority and may directly impact employees’ work environment, these resources may not be as influential in less formal settings, such as discussions with peers or during job interviews. Conversations with coworkers are likely influenced by other factors, such as personal relationships, team dynamics, or workplace culture. Similarly, discussing mental health during an interview is a sensitive topic and may not be directly related to available resources but rather to perceived stigmas or concerns about professional reputation and job security."
   ]
  },
  {
   "cell_type": "markdown",
   "id": "d2a3bed3-40bb-4dc4-8ee4-64020658d824",
   "metadata": {},
   "source": [
    "#### **C.2 Research Question Part B**\n",
    ">#### Is there a difference in employee comfort levels in discussing mental health issues between those who know their mental health care options and those who do not?\n",
    "\n",
    "For part B of the research question, the null hypothesis states that there is no significant difference between the two groups in terms of comfort levels in discussing mental health issues at work. An independent t-test will be conducted to compare the comfort levels of employees in discussing mental health issues based on whether they know their mental health care options or not. The test will generate a t-statistic and a p-value to determine whether the difference in means between the two groups is statistically significant. As with the correlation test, an alpha value of 0.05 will be used to evaluate the significance of the result. "
   ]
  },
  {
   "cell_type": "code",
   "execution_count": 40,
   "id": "302bc546-f4bb-4553-bc9b-1b5897714fb6",
   "metadata": {},
   "outputs": [],
   "source": [
    "# Split data based on knowledge of care options\n",
    "knows_options = df_clean_copy[df_clean_copy['care_options_numeric'] == 1]  # For 'Yes' coded as 1\n",
    "does_not_know_options = df_clean_copy[df_clean_copy['care_options_numeric'] != 1]  # For 'No' and 'Don't know'"
   ]
  },
  {
   "cell_type": "code",
   "execution_count": 41,
   "id": "7ac18ae5-1b3b-43ae-89e9-0b0da92dc19b",
   "metadata": {},
   "outputs": [
    {
     "name": "stdout",
     "output_type": "stream",
     "text": [
      "\n",
      "Comfort level with coworkers (knows options): 1.416289592760181\n",
      "Comfort level with coworkers (does not know options): 1.4034440344403445\n",
      "Comfort level with supervisor (knows options): 1.0226244343891402\n",
      "Comfort level with supervisor (does not know options): 0.932349323493235\n"
     ]
    }
   ],
   "source": [
    "# Calculate mean comfort level for both groups (coworkers and supervisor)\n",
    "knows_coworkers_mean = knows_options['coworkers_numeric'].mean()\n",
    "knows_supervisor_mean = knows_options['supervisor_numeric'].mean()\n",
    "\n",
    "does_not_know_coworkers_mean = does_not_know_options['coworkers_numeric'].mean()\n",
    "does_not_know_supervisor_mean = does_not_know_options['supervisor_numeric'].mean()\n",
    "\n",
    "# Print the results\n",
    "print(\"\\nComfort level with coworkers (knows options):\", knows_coworkers_mean)\n",
    "print(\"Comfort level with coworkers (does not know options):\", does_not_know_coworkers_mean)\n",
    "print(\"Comfort level with supervisor (knows options):\", knows_supervisor_mean)\n",
    "print(\"Comfort level with supervisor (does not know options):\", does_not_know_supervisor_mean)"
   ]
  },
  {
   "cell_type": "code",
   "execution_count": 42,
   "id": "043c49b6-179c-400c-ad57-5f3a7d8bc917",
   "metadata": {},
   "outputs": [
    {
     "name": "stdout",
     "output_type": "stream",
     "text": [
      "\n",
      "T-test Results for Comfort Levels:\n",
      "T-test for coworkers comfort level: t-stat = 0.2704, p-value = 0.7869\n",
      "T-test for supervisor comfort level: t-stat = 2.0161, p-value = 0.0441\n"
     ]
    }
   ],
   "source": [
    "# Perform t-tests to compare comfort levels between the two groups\n",
    "ttest_coworkers = stats.ttest_ind(knows_options['coworkers_numeric'], does_not_know_options['coworkers_numeric'], equal_var=False)\n",
    "ttest_supervisor = stats.ttest_ind(knows_options['supervisor_numeric'], does_not_know_options['supervisor_numeric'], equal_var=False)\n",
    "\n",
    "# Print the t-test results\n",
    "print(\"\\nT-test Results for Comfort Levels:\")\n",
    "print(f\"T-test for coworkers comfort level: t-stat = {ttest_coworkers.statistic:.4f}, p-value = {ttest_coworkers.pvalue:.4f}\")\n",
    "print(f\"T-test for supervisor comfort level: t-stat = {ttest_supervisor.statistic:.4f}, p-value = {ttest_supervisor.pvalue:.4f}\")"
   ]
  },
  {
   "cell_type": "code",
   "execution_count": 43,
   "id": "91d1baa8-65a3-4c11-a655-92fb3b001f1a",
   "metadata": {},
   "outputs": [
    {
     "name": "stdout",
     "output_type": "stream",
     "text": [
      "The difference in comfort levels with coworkers is not statistically significant.\n",
      "The difference in comfort levels with supervisors is statistically significant.\n"
     ]
    }
   ],
   "source": [
    "# Compare the t-test p-values with alpha\n",
    "if ttest_coworkers.pvalue < alpha:\n",
    "    print(\"The difference in comfort levels with coworkers is statistically significant.\")\n",
    "else:\n",
    "    print(\"The difference in comfort levels with coworkers is not statistically significant.\")\n",
    "\n",
    "if ttest_supervisor.pvalue < alpha:\n",
    "    print(\"The difference in comfort levels with supervisors is statistically significant.\")\n",
    "else:\n",
    "    print(\"The difference in comfort levels with supervisors is not statistically significant.\")"
   ]
  },
  {
   "cell_type": "markdown",
   "id": "3d3cd31e-b7f0-4704-8351-1ad6ff9a8dcc",
   "metadata": {},
   "source": [
    "#### C.2.1 Graphs and Visual Analysis"
   ]
  },
  {
   "cell_type": "code",
   "execution_count": 44,
   "id": "6b738a60-0611-4011-a621-3fead14f90cc",
   "metadata": {},
   "outputs": [],
   "source": [
    "# Creates bar graph function\n",
    "def plot_comfort_levels(df, group_col, numeric_cols, xlabel, ylabel, title):\n",
    "    \"\"\"\n",
    "    Creates a bar graph showing mean comfort levels for coworkers and supervisors based on a grouping column.\n",
    "\n",
    "    Parameters:\n",
    "    - df: DataFrame containing the data.\n",
    "    - group_col: Column to group by.\n",
    "    - numeric_cols: List of numeric columns to plot.\n",
    "    - xlabel: Label for the X-axis.\n",
    "    - ylabel: Label for the Y-axis.\n",
    "    - title: Title for the chart.\n",
    "    \"\"\"\n",
    "    # Group by the specified column and calculate the mean\n",
    "    group_means = df_clean_copy.groupby(group_col)[numeric_cols].mean()\n",
    "    \n",
    "    # Define positions of the bars\n",
    "    labels = ['Comfort with Coworkers', 'Comfort with Supervisor']\n",
    "    groups = group_means.index  # Extract unique groups from the groupby\n",
    "    x = np.arange(len(labels))  # Create X-axis positions\n",
    "    width = 0.25  # Width of each bar\n",
    "\n",
    "    # Create the bar graph with different colors for each group\n",
    "    fig, ax = plt.subplots()\n",
    "    for i, group in enumerate(groups):\n",
    "        ax.bar(x + i * width, group_means.loc[group], width, label=group)\n",
    "\n",
    "    # Add labels, title, and ticks\n",
    "    ax.set_xlabel(xlabel)\n",
    "    ax.set_ylabel(ylabel)\n",
    "    ax.set_title(title)\n",
    "    ax.set_xticks(x + width / len(groups))  # Adjust X-axis ticks\n",
    "    ax.set_xticklabels(labels)\n",
    "    ax.legend(title=group_col, bbox_to_anchor=(1.05, 1), loc='upper left')\n",
    "\n",
    "    # Display the plot\n",
    "    plt.tight_layout()\n",
    "    plt.show()"
   ]
  },
  {
   "cell_type": "markdown",
   "id": "29a5142e-c5d8-414a-abe0-aa9a957f840e",
   "metadata": {},
   "source": [
    "##### Comfort Levels in Discussing Mental Health Issues"
   ]
  },
  {
   "cell_type": "code",
   "execution_count": 45,
   "id": "c156a9bf-6662-4bc9-98ba-6c8f0938d190",
   "metadata": {},
   "outputs": [
    {
     "data": {
      "image/png": "[encoded data removed]",
      "text/plain": [
       "<Figure size 640x480 with 1 Axes>"
      ]
     },
     "metadata": {},
     "output_type": "display_data"
    }
   ],
   "source": [
    "# Define the columns being grouped and plotted\n",
    "group_col = 'care_options'  \n",
    "numeric_cols = ['coworkers_numeric', 'supervisor_numeric']  \n",
    "\n",
    "# Call the function to create the bar chart\n",
    "plot_comfort_levels(\n",
    "    df=df_clean_copy,  \n",
    "    group_col=group_col,  \n",
    "    numeric_cols=numeric_cols,  \n",
    "    xlabel='Category',  \n",
    "    ylabel='Comfort Level (Mean)',  \n",
    "    title='Comfort Level in Discussing Mental Health Issues'  \n",
    ")"
   ]
  },
  {
   "cell_type": "markdown",
   "id": "d535fb64-bd44-4dcc-8094-a09e1d6a9eba",
   "metadata": {},
   "source": [
    "***Analysis-*** This bar graph confirms that although there is a difference in the comfort levels discussing with coworkers from those who know their care options versus those who do not, the difference is not large enough to be statistically significant. Likewise, the graph also confirms that the difference in the comfort levels discussing with a supervisor of those who know their care options versus those who do not is large enough to be statistically significant. "
   ]
  },
  {
   "cell_type": "markdown",
   "id": "a7d31d05-d5da-4267-891b-a539990256df",
   "metadata": {},
   "source": [
    "##### Mean Comfort Levels by Gender"
   ]
  },
  {
   "cell_type": "code",
   "execution_count": 46,
   "id": "d63c0931-f23c-4b41-ae2f-e328e7dc3749",
   "metadata": {},
   "outputs": [
    {
     "data": {
      "image/png": "[encoded data removed]",
      "text/plain": [
       "<Figure size 640x480 with 1 Axes>"
      ]
     },
     "metadata": {},
     "output_type": "display_data"
    }
   ],
   "source": [
    "# Creates bar graph filtering comfort levels by gender\n",
    "plot_comfort_levels(df_clean, 'Gender', ['coworkers_numeric', 'supervisor_numeric'], \n",
    "                    'Category', 'Comfort Level (Mean)', 'Mean Comfort Levels by Gender')"
   ]
  },
  {
   "cell_type": "markdown",
   "id": "dc16edbc-9cef-4063-b013-ec101c7fae49",
   "metadata": {},
   "source": [
    "***Analysis-*** The bar graph shows that men are more comfortable with discussing mental health issues with their coworkers rather than discussing them with a supervisor. In addition, individuals who do not identify as male or female are more comfortable with discussing mental health issues with a supervisor at a significantly higher rate than individuals who identify as male or female. In contrast, those individuals are the least comfortable with discussing mental health issues with coworkers at a statistically significant rate."
   ]
  },
  {
   "cell_type": "markdown",
   "id": "1f32292b-a7fb-431c-b04a-0f4fadf447fb",
   "metadata": {},
   "source": [
    "##### Mean Comfort Levels by Country"
   ]
  },
  {
   "cell_type": "code",
   "execution_count": 47,
   "id": "d19703bb-55d9-42e8-a86b-6cbaa6b45116",
   "metadata": {},
   "outputs": [
    {
     "data": {
      "image/png": "[encoded data removed]",
      "text/plain": [
       "<Figure size 640x480 with 1 Axes>"
      ]
     },
     "metadata": {},
     "output_type": "display_data"
    }
   ],
   "source": [
    "# Creates bar graph filtering comfort levels by country\n",
    "plot_comfort_levels(df_clean, 'Country', ['coworkers_numeric', 'supervisor_numeric'], \n",
    "                    'Category', 'Comfort Level (Mean)', 'Mean Comfort Levels by Country')"
   ]
  },
  {
   "cell_type": "markdown",
   "id": "9e272b73-23ea-4367-8058-865ea3be909c",
   "metadata": {},
   "source": [
    "***Analysis-*** The bar graph shows that in all of the countries, participants are more willing to discuss mental health issues with coworkers than with a supervisor. The United State has a slightly higher mean comfort level than other countries, but the difference is not statistically significant. In comparison, there is not a statistically significant difference in comfort levels with a supervisor between the different countries. This finding suggests that a person's country does not statistically affects the comfort level of an individual to discuss mental health issues at work."
   ]
  },
  {
   "cell_type": "markdown",
   "id": "2d986b3c-821e-4b54-b410-a243fa3f63b2",
   "metadata": {},
   "source": [
    "### Summary for Research Question Part 2:\n",
    "\n",
    ">**Is there a difference in employee comfort levels in discussing mental health issues between those who know their mental health care options and those who do not?**\n",
    "\n",
    "The following are the results of the comfort level in discussing mental health issues of employees who know/don't know their care options:\n",
    "\n",
    "**Comfort level with coworkers:** The mean comfort level for employees who know their mental health care options is 1.42, while the mean comfort level for those who do not know their options is 1.40. A t-test comparing the two groups yields a t-statistic of 0.2704 and a p-value of 0.7869. Since the p-value is greater than 0.05, the difference in comfort levels with coworkers is not statistically significant, indicating that knowledge of mental health care options does not significantly impact comfort levels when discussing mental health issues with coworkers.\n",
    "\n",
    "**Comfort level with supervisor:** The mean comfort level for employees who know their mental health care options is 1.02, while for those who do not, it is 0.93. A t-test yields a t-statistic of 2.0161 and a p-value of 0.0441. Since the p-value is less than 0.05, the difference in comfort levels with supervisors is statistically significant, suggesting that employees who know their mental health care options feel significantly more comfortable discussing mental health issues with their supervisors than those who do not.\n",
    "\n",
    "**Part B Summary Conclusion:** The analysis of comfort levels in discussing mental health issues showed that there was no statistically significant difference in comfort when discussing these issues with coworkers between employees who knew about the availability of mental health care options and those who did not. This suggests that knowledge of formal mental health care resources does not impact an employee's willingness to have conversations about mental health with their coworkers. Discussions with coworkers are likely influenced by informal factors, such as personal relationships, mutual trust, or the overall workplace culture regarding mental health openness, rather than the presence of formal resources.\n",
    "\n",
    "On the other hand, a significant difference was found in employees' comfort levels in discussing mental health issues with their supervisors based on their knowledge of mental health care options. Employees who knew their mental health care options felt more comfortable approaching their supervisors than those who did not. This could be because employees who are informed about their company’s mental health resources may perceive a more supportive environment, where their concerns will be understood, and help is accessible if needed. The formal acknowledgment of mental health by the organization, coupled with available resources, could lower the barriers for these employees to raise mental health concerns with their supervisors. \n",
    "\n",
    "In addition, when looking at comfort levels by gender, the bar graph indicates that men are generally more comfortable discussing mental health with coworkers than supervisors, while individuals who do not identify strictly as male or female report significantly higher comfort levels with supervisors but lower levels with coworkers. Furthermore, participants across all countries generally feel more at ease discussing mental health with coworkers compared to supervisors, with the United States showing a slightly higher mean comfort level, though not statistically significant. Overall, the data suggests that a person's country does not significantly influence their comfort level in discussing mental health at work."
   ]
  },
  {
   "cell_type": "markdown",
   "id": "0975d046-75ba-46e3-9ab2-008dc954209a",
   "metadata": {},
   "source": [
    "## Overall Implication:\n",
    "Together, these findings suggest that while the availability of mental health resources is essential, the impact of these resources varies depending on who the employee is speaking to. For interactions with supervisors, knowing about available resources makes a difference, potentially because of the power dynamics and the formal role supervisors play in managing employee well-being. However, for discussions with coworkers and during interviews, other factors beyond the availability of resources, such as workplace culture and personal relationships, may be more influential. \n",
    "\n",
    "The findings suggest that organizations should focus on both promoting resources and fostering an open and supportive culture to address mental health at all levels of the workplace. Organizations should not only make mental health resources available but should also actively communicate their existence to employees, particularly if they aim to improve comfort levels in discussions with supervisors. Additionally, efforts to promote mental health discussions with coworkers and during interviews may require a more holistic approach that extends beyond resources and into fostering a culture of openness, reducing stigma, and encouraging mental health discussions at all levels of the organization. This could include targeted mental health awareness campaigns, peer support systems, and leadership initiatives that model healthy mental health communication practices."
   ]
  },
  {
   "cell_type": "code",
   "execution_count": null,
   "id": "6eb147ea-4f73-45ea-bf77-cb3dc35e9215",
   "metadata": {},
   "outputs": [],
   "source": [
    "# Save cleaned dataframe as a CSV file\n",
    "df_clean_copy.to_csv('df_clean_copy.csv', index=False)"
   ]
  }
 ],
 "metadata": {
  "kernelspec": {
   "display_name": "Python 3 (ipykernel)",
   "language": "python",
   "name": "python3"
  },
  "language_info": {
   "codemirror_mode": {
    "name": "ipython",
    "version": 3
   },
   "file_extension": ".py",
   "mimetype": "text/x-python",
   "name": "python",
   "nbconvert_exporter": "python",
   "pygments_lexer": "ipython3",
   "version": "3.12.4"
  }
 },
 "nbformat": 4,
 "nbformat_minor": 5
}
